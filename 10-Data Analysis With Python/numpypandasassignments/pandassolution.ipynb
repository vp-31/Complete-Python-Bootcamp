{
 "cells": [
  {
   "cell_type": "markdown",
   "metadata": {},
   "source": [
    "# Module: Pandas Assignments\n",
    "## Lesson: Pandas\n",
    "### Assignment 1: DataFrame Creation and Indexing\n",
    "\n",
    "1. Create a Pandas DataFrame with 4 columns and 6 rows filled with random integers. Set the index to be the first column."
   ]
  },
  {
   "cell_type": "code",
   "execution_count": 2,
   "metadata": {},
   "outputs": [
    {
     "name": "stdout",
     "output_type": "stream",
     "text": [
      "Original DataFrame:\n",
      "    A   B   C   D\n",
      "0  75   2  24  30\n",
      "1  51  15  92  20\n",
      "2  28  25  41  77\n",
      "3  66  92  89  85\n",
      "4  40  85  62  13\n",
      "5  52  14  73   8\n",
      "DataFrame with new index:\n",
      "     B   C   D\n",
      "A             \n",
      "75   2  24  30\n",
      "51  15  92  20\n",
      "28  25  41  77\n",
      "66  92  89  85\n",
      "40  85  62  13\n",
      "52  14  73   8\n"
     ]
    }
   ],
   "source": [
    "import pandas as pd\n",
    "import numpy as np\n",
    "\n",
    "# Create a Pandas DataFrame with 4 columns and 6 rows filled with random integers\n",
    "df = pd.DataFrame(np.random.randint(1, 100, size=(6, 4)), columns=['A', 'B', 'C', 'D'])\n",
    "print(\"Original DataFrame:\")\n",
    "print(df)\n",
    "\n",
    "# Set the index to be the first column\n",
    "df.set_index('A', inplace=True)\n",
    "print(\"DataFrame with new index:\")\n",
    "print(df)"
   ]
  },
  {
   "cell_type": "code",
   "execution_count": 3,
   "id": "15a4046b",
   "metadata": {},
   "outputs": [
    {
     "name": "stdout",
     "output_type": "stream",
     "text": [
      "    B   C   D\n",
      "0  80  17  13\n",
      "1  30   8  51\n",
      "2  71  78  59\n",
      "3  36  77  83\n",
      "4  33  94  89\n",
      "5  51  84  46\n"
     ]
    }
   ],
   "source": [
    "\n",
    "print(df.reset_index(drop=True))"
   ]
  },
  {
   "cell_type": "markdown",
   "metadata": {},
   "source": [
    "2. Create a Pandas DataFrame with columns 'A', 'B', 'C' and index 'X', 'Y', 'Z'. Fill the DataFrame with random integers and access the element at row 'Y' and column 'B'."
   ]
  },
  {
   "cell_type": "code",
   "execution_count": 9,
   "metadata": {},
   "outputs": [
    {
     "name": "stdout",
     "output_type": "stream",
     "text": [
      "Original DataFrame:\n",
      "    A   B   C\n",
      "X  61  71  92\n",
      "Y  79  83  92\n",
      "Z  69  96  22\n",
      "Element at row 'Y' and column 'B': 83\n"
     ]
    }
   ],
   "source": [
    "# Create a Pandas DataFrame with specified columns and index\n",
    "df = pd.DataFrame(np.random.randint(1, 100, size=(3, 3)), columns=['A', 'B', 'C'], index=['X', 'Y', 'Z'])\n",
    "print(\"Original DataFrame:\")\n",
    "print(df)\n",
    "\n",
    "# Access the element at row 'Y' and column 'B'\n",
    "element = df.at['Y', 'B']\n",
    "print(\"Element at row 'Y' and column 'B':\", element)"
   ]
  },
  {
   "cell_type": "markdown",
   "metadata": {},
   "source": [
    "### Assignment 2: DataFrame Operations\n",
    "\n",
    "1. Create a Pandas DataFrame with 3 columns and 5 rows filled with random integers. Add a new column that is the product of the first two columns."
   ]
  },
  {
   "cell_type": "code",
   "execution_count": 10,
   "metadata": {},
   "outputs": [
    {
     "name": "stdout",
     "output_type": "stream",
     "text": [
      "Original DataFrame:\n",
      "    A   B   C\n",
      "0  42  55  84\n",
      "1  27  36  18\n",
      "2  17  21  95\n",
      "3  80  24   5\n",
      "4   2  20  57\n",
      "DataFrame with new column:\n",
      "    A   B   C     D\n",
      "0  42  55  84  2310\n",
      "1  27  36  18   972\n",
      "2  17  21  95   357\n",
      "3  80  24   5  1920\n",
      "4   2  20  57    40\n"
     ]
    }
   ],
   "source": [
    "# Create a Pandas DataFrame with 3 columns and 5 rows filled with random integers\n",
    "df = pd.DataFrame(np.random.randint(1, 100, size=(5, 3)), columns=['A', 'B', 'C'])\n",
    "print(\"Original DataFrame:\")\n",
    "print(df)\n",
    "\n",
    "# Add a new column that is the product of the first two columns\n",
    "df['D'] = df['A'] * df['B']\n",
    "print(\"DataFrame with new column:\")\n",
    "print(df)"
   ]
  },
  {
   "cell_type": "markdown",
   "metadata": {},
   "source": [
    "2. Create a Pandas DataFrame with 3 columns and 4 rows filled with random integers. Compute the row-wise and column-wise sum."
   ]
  },
  {
   "cell_type": "code",
   "execution_count": 16,
   "metadata": {},
   "outputs": [
    {
     "name": "stdout",
     "output_type": "stream",
     "text": [
      "Original DataFrame:\n",
      "    A   B   C\n",
      "0  45  48  65\n",
      "1  68  68  10\n",
      "2  84  22  37\n",
      "3  88  71  89\n",
      "Row-wise sum:\n",
      "0    158\n",
      "1    146\n",
      "2    143\n",
      "3    248\n",
      "dtype: int64\n",
      "Column-wise sum:\n",
      "A    285\n",
      "B    209\n",
      "C    201\n",
      "dtype: int64\n"
     ]
    }
   ],
   "source": [
    "# Create a Pandas DataFrame with 3 columns and 4 rows filled with random integers\n",
    "np.random.seed(0)\n",
    "df = pd.DataFrame(np.random.randint(1, 100, size=(4, 3)), columns=['A', 'B', 'C'])\n",
    "print(\"Original DataFrame:\")\n",
    "print(df)\n",
    "\n",
    "# Compute the row-wise and column-wise sum\n",
    "row_sum = df.sum(axis=1)\n",
    "column_sum = df.sum(axis=0)\n",
    "\n",
    "print(\"Row-wise sum:\")\n",
    "print(row_sum)\n",
    "print(\"Column-wise sum:\")\n",
    "print(column_sum)"
   ]
  },
  {
   "cell_type": "markdown",
   "metadata": {},
   "source": [
    "### Assignment 3: Data Cleaning\n",
    "\n",
    "1. Create a Pandas DataFrame with 3 columns and 5 rows filled with random integers. Introduce some NaN values. Fill the NaN values with the mean of the respective columns."
   ]
  },
  {
   "cell_type": "code",
   "execution_count": 22,
   "id": "0039819d",
   "metadata": {},
   "outputs": [
    {
     "name": "stdout",
     "output_type": "stream",
     "text": [
      "Original DataFrame:\n",
      "    A   B   C\n",
      "0  45  48  65\n",
      "1  68  68  10\n",
      "2  84  22  37\n",
      "3  88  71  89\n",
      "4  89  13  59\n",
      "DataFrame with NaN values:\n",
      "      A     B     C\n",
      "0  45.0   NaN  65.0\n",
      "1  68.0  68.0  10.0\n",
      "2  84.0  22.0   NaN\n",
      "3  88.0  71.0  89.0\n",
      "4   NaN  13.0  59.0\n",
      "DataFrame with NaN values filled:\n",
      "       A     B      C\n",
      "0  45.00  43.5  65.00\n",
      "1  68.00  68.0  10.00\n",
      "2  84.00  22.0  55.75\n",
      "3  88.00  71.0  89.00\n",
      "4  71.25  13.0  59.00\n"
     ]
    }
   ],
   "source": [
    "# Create a Pandas DataFrame with 3 columns and 5 rows filled with random integers\n",
    "np.random.seed(0)\n",
    "\n",
    "df = pd.DataFrame(np.random.randint(1, 100, size=(5, 3)), columns=['A', 'B', 'C'])\n",
    "print(\"Original DataFrame:\")\n",
    "print(df)\n",
    "\n",
    "# Introduce some NaN values\n",
    "df.iloc[0, 1] = np.nan\n",
    "df.iloc[2, 2] = np.nan\n",
    "df.iloc[4, 0] = np.nan\n",
    "print(\"DataFrame with NaN values:\")\n",
    "print(df)\n",
    "# Fill the NaN values with the mean of the respective columns\n",
    "\n",
    "df.fillna(df.mean(), inplace=True)\n",
    "print(\"DataFrame with NaN values filled:\")\n",
    "print(df)"
   ]
  },
  {
   "cell_type": "markdown",
   "id": "19953107",
   "metadata": {},
   "source": [
    "**Doing below to fill nan from mean of row**"
   ]
  },
  {
   "cell_type": "code",
   "execution_count": 47,
   "metadata": {},
   "outputs": [
    {
     "name": "stdout",
     "output_type": "stream",
     "text": [
      "Original DataFrame:\n",
      "    A   B   C\n",
      "0   7  17  18\n",
      "1  89  51  56\n",
      "2  60  53  48\n",
      "3  77  49  19\n",
      "4  18  54  65\n",
      "DataFrame with NaN values:\n",
      "      A     B     C\n",
      "0   7.0   NaN  18.0\n",
      "1  89.0  51.0  56.0\n",
      "2  60.0  53.0   NaN\n",
      "3  77.0  49.0  19.0\n",
      "4   NaN  54.0  65.0\n",
      "df.mean()\n",
      " 0    12.500000\n",
      "1    65.333333\n",
      "2    56.500000\n",
      "3    48.333333\n",
      "4    59.500000\n",
      "dtype: float64 \n",
      "\n",
      "DataFrame with NaN values filled:\n",
      "      A     B     C\n",
      "0   7.0  12.5  18.0\n",
      "1  89.0  51.0  56.0\n",
      "2  60.0  53.0  56.5\n",
      "3  77.0  49.0  19.0\n",
      "4  59.5  54.0  65.0\n"
     ]
    }
   ],
   "source": [
    "# Create a Pandas DataFrame with 3 columns and 5 rows filled with random integers\n",
    "df = pd.DataFrame(np.random.randint(1, 100, size=(5, 3)), columns=['A', 'B', 'C'])\n",
    "print(\"Original DataFrame:\")\n",
    "print(df)\n",
    "\n",
    "# Introduce some NaN values\n",
    "df.iloc[0, 1] = np.nan\n",
    "df.iloc[2, 2] = np.nan\n",
    "df.iloc[4, 0] = np.nan\n",
    "print(\"DataFrame with NaN values:\")\n",
    "print(df)\n",
    "df_nan = df.copy(deep=True)\n",
    "# Fill the NaN values with the mean of the respective columns\n",
    "print(\"df.mean()\\n\", df.mean(axis=1), '\\n')\n",
    "\n",
    "df = df.apply(lambda row: row.fillna(row.mean()), axis=1)\n",
    "print(\"DataFrame with NaN values filled:\")\n",
    "print(df)"
   ]
  },
  {
   "cell_type": "code",
   "execution_count": 24,
   "id": "8c01d806",
   "metadata": {},
   "outputs": [
    {
     "data": {
      "text/plain": [
       "0     66.0\n",
       "1    131.0\n",
       "2     99.0\n",
       "3    168.0\n",
       "4    105.0\n",
       "dtype: float64"
      ]
     },
     "execution_count": 24,
     "metadata": {},
     "output_type": "execute_result"
    }
   ],
   "source": [
    "df_nan.sum(axis=1)"
   ]
  },
  {
   "cell_type": "markdown",
   "metadata": {},
   "source": [
    "2. Create a Pandas DataFrame with 4 columns and 6 rows filled with random integers. Introduce some NaN values. Drop the rows with any NaN values."
   ]
  },
  {
   "cell_type": "code",
   "execution_count": 4,
   "metadata": {},
   "outputs": [
    {
     "name": "stdout",
     "output_type": "stream",
     "text": [
      "Original DataFrame:\n",
      "    A   B   C   D\n",
      "0  32  48   2  26\n",
      "1  54  85  93  71\n",
      "2  94  63  90   8\n",
      "3  85  47  20  77\n",
      "4  22  94  90  34\n",
      "5  78  64   2  33\n",
      "DataFrame with NaN values:\n",
      "      A     B     C   D\n",
      "0  32.0  48.0   2.0  26\n",
      "1  54.0  85.0   NaN  71\n",
      "2  94.0  63.0  90.0   8\n",
      "3   NaN  47.0  20.0  77\n",
      "4  22.0  94.0  90.0  34\n",
      "5  78.0   NaN   2.0  33\n",
      "DataFrame with NaN values dropped:\n",
      "      A     B     C   D\n",
      "0  32.0  48.0   2.0  26\n",
      "2  94.0  63.0  90.0   8\n",
      "4  22.0  94.0  90.0  34\n"
     ]
    }
   ],
   "source": [
    "# Create a Pandas DataFrame with 4 columns and 6 rows filled with random integers\n",
    "df = pd.DataFrame(np.random.randint(1, 100, size=(6, 4)), columns=['A', 'B', 'C', 'D'])\n",
    "print(\"Original DataFrame:\")\n",
    "print(df)\n",
    "\n",
    "# Introduce some NaN values\n",
    "df.iloc[1, 2] = np.nan\n",
    "df.iloc[3, 0] = np.nan\n",
    "df.iloc[5, 1] = np.nan\n",
    "print(\"DataFrame with NaN values:\")\n",
    "print(df)\n",
    "\n",
    "# Drop the rows with any NaN values\n",
    "df.dropna(inplace=True)\n",
    "print(\"DataFrame with NaN values dropped:\")\n",
    "print(df)"
   ]
  },
  {
   "cell_type": "markdown",
   "metadata": {},
   "source": [
    "### Assignment 4: Data Aggregation\n",
    "\n",
    "1. Create a Pandas DataFrame with 2 columns: 'Category' and 'Value'. Fill the 'Category' column with random categories ('A', 'B', 'C') and the 'Value' column with random integers. Group the DataFrame by 'Category' and compute the sum and mean of 'Value' for each category."
   ]
  },
  {
   "cell_type": "code",
   "execution_count": 27,
   "metadata": {},
   "outputs": [
    {
     "name": "stdout",
     "output_type": "stream",
     "text": [
      "Original DataFrame:\n",
      "\n",
      "  Category  Value\n",
      "0        A     13\n",
      "1        B     59\n",
      "2        A     66\n",
      "3        B     40\n",
      "4        B     88\n",
      "5        C     47\n",
      "6        A     89\n",
      "7        C     82\n",
      "8        A     38\n",
      "9        A     26 None\n",
      "\n",
      "df.describe()\n",
      "            Value\n",
      "count  10.000000\n",
      "mean   54.800000\n",
      "std    26.444071\n",
      "min    13.000000\n",
      "25%    38.500000\n",
      "50%    53.000000\n",
      "75%    78.000000\n",
      "max    89.000000 None\n",
      "\n",
      "df.mean()\n",
      " Value    54.8\n",
      "dtype: float64 None\n",
      "\n",
      "df.sum()\n",
      " Value    548\n",
      "dtype: int64 None\n",
      "Grouped DataFrame:\n",
      "          sum       mean\n",
      "Category                \n",
      "A         232  46.400000\n",
      "B         187  62.333333\n",
      "C         129  64.500000\n"
     ]
    }
   ],
   "source": [
    "np.random.seed(0)\n",
    "# Create a Pandas DataFrame with 2 columns: 'Category' and 'Value'\n",
    "df = pd.DataFrame({ 'Category': np.random.choice(['A', 'B', 'C'], size=10), 'Value': np.random.randint(1, 100, size=10)})\n",
    "print(\"Original DataFrame:\")\n",
    "print(df, print())\n",
    "\n",
    "print('df.describe()\\n', df.describe(), print())\n",
    "print('df.mean()\\n', df.mean(numeric_only=True), print())\n",
    "print('df.sum()\\n', df.sum(numeric_only=True), print())\n",
    "\n",
    "# Group the DataFrame by 'Category' and compute the sum and mean of 'Value' for each category\n",
    "grouped = df.groupby('Category')['Value'].agg(['sum', 'mean'])\n",
    "print(\"Grouped DataFrame:\")\n",
    "print(grouped)"
   ]
  },
  {
   "cell_type": "markdown",
   "metadata": {},
   "source": [
    "2. Create a Pandas DataFrame with 3 columns: 'Product', 'Category', and 'Sales'. Fill the DataFrame with random data. Group the DataFrame by 'Category' and compute the total sales for each category."
   ]
  },
  {
   "cell_type": "code",
   "execution_count": 28,
   "metadata": {},
   "outputs": [
    {
     "name": "stdout",
     "output_type": "stream",
     "text": [
      "Original DataFrame:\n",
      "  Product Category  Sales\n",
      "0   Prod2        B     24\n",
      "1   Prod1        B     36\n",
      "2   Prod2        C     76\n",
      "3   Prod1        A     56\n",
      "4   Prod1        B     29\n",
      "5   Prod2        B     35\n",
      "6   Prod3        B      1\n",
      "7   Prod1        A      1\n",
      "8   Prod3        C     37\n",
      "9   Prod1        A     54\n",
      "Grouped DataFrame:\n",
      "Category\n",
      "A    111\n",
      "B    125\n",
      "C    113\n",
      "Name: Sales, dtype: int64\n"
     ]
    }
   ],
   "source": [
    "# Create a Pandas DataFrame with 3 columns: 'Product', 'Category', and 'Sales'\n",
    "df = pd.DataFrame({'Product': np.random.choice(['Prod1', 'Prod2', 'Prod3'], size=10), 'Category': np.random.choice(['A', 'B', 'C'], size=10), 'Sales': np.random.randint(1, 100, size=10)})\n",
    "print(\"Original DataFrame:\")\n",
    "print(df)\n",
    "\n",
    "# Group the DataFrame by 'Category' and compute the total sales for each category\n",
    "grouped = df.groupby('Category')['Sales'].sum()\n",
    "print(\"Grouped DataFrame:\")\n",
    "print(grouped)"
   ]
  },
  {
   "cell_type": "markdown",
   "metadata": {},
   "source": [
    "### Assignment 5: Merging DataFrames\n",
    "\n",
    "1. Create two Pandas DataFrames with a common column. Merge the DataFrames using the common column."
   ]
  },
  {
   "cell_type": "code",
   "execution_count": 29,
   "metadata": {},
   "outputs": [
    {
     "name": "stdout",
     "output_type": "stream",
     "text": [
      "DataFrame 1:\n",
      "  Key  Value1\n",
      "0   A       6\n",
      "1   B      39\n",
      "2   C      18\n",
      "3   D      80\n",
      "DataFrame 2:\n",
      "  Key  Value2\n",
      "0   A       5\n",
      "1   B      43\n",
      "2   C      59\n",
      "3   E      32\n",
      "Merged DataFrame:\n",
      "  Key  Value1  Value2\n",
      "0   A       6       5\n",
      "1   B      39      43\n",
      "2   C      18      59\n"
     ]
    }
   ],
   "source": [
    "# Create two Pandas DataFrames with a common column\n",
    "df1 = pd.DataFrame({'Key': ['A', 'B', 'C', 'D'], 'Value1': np.random.randint(1, 100, size=4)})\n",
    "df2 = pd.DataFrame({'Key': ['A', 'B', 'C', 'E'], 'Value2': np.random.randint(1, 100, size=4)})\n",
    "print(\"DataFrame 1:\")\n",
    "print(df1)\n",
    "print(\"DataFrame 2:\")\n",
    "print(df2)\n",
    "\n",
    "# Merge the DataFrames using the common column\n",
    "merged = pd.merge(df1, df2, on='Key')\n",
    "print(\"Merged DataFrame:\")\n",
    "print(merged)"
   ]
  },
  {
   "cell_type": "markdown",
   "metadata": {},
   "source": [
    "2. Create two Pandas DataFrames with different columns. Concatenate the DataFrames along the rows and along the columns."
   ]
  },
  {
   "cell_type": "code",
   "execution_count": 34,
   "metadata": {},
   "outputs": [
    {
     "name": "stdout",
     "output_type": "stream",
     "text": [
      "DataFrame 1:\n",
      "    A   B\n",
      "0  45  68\n",
      "1  48  68\n",
      "2  65  10\n",
      "DataFrame 2:\n",
      "    C   D\n",
      "0  84  88\n",
      "1  22  71\n",
      "2  37  89\n",
      "Default DataFrame WITHOUT axis:\n",
      "      A     B     C     D\n",
      "0  45.0  68.0   NaN   NaN\n",
      "1  48.0  68.0   NaN   NaN\n",
      "2  65.0  10.0   NaN   NaN\n",
      "0   NaN   NaN  84.0  88.0\n",
      "1   NaN   NaN  22.0  71.0\n",
      "2   NaN   NaN  37.0  89.0\n",
      "Concatenated DataFrame (rows):\n",
      "      A     B     C     D\n",
      "0  45.0  68.0   NaN   NaN\n",
      "1  48.0  68.0   NaN   NaN\n",
      "2  65.0  10.0   NaN   NaN\n",
      "0   NaN   NaN  84.0  88.0\n",
      "1   NaN   NaN  22.0  71.0\n",
      "2   NaN   NaN  37.0  89.0\n",
      "Concatenated DataFrame (columns):\n",
      "    A   B   C   D\n",
      "0  45  68  84  88\n",
      "1  48  68  22  71\n",
      "2  65  10  37  89\n"
     ]
    }
   ],
   "source": [
    "np.random.seed(0)\n",
    "\n",
    "# Create two Pandas DataFrames with different columns\n",
    "df1 = pd.DataFrame({'A': np.random.randint(1, 100, size=3), 'B': np.random.randint(1, 100, size=3)})\n",
    "df2 = pd.DataFrame({'C': np.random.randint(1, 100, size=3), 'D': np.random.randint(1, 100, size=3)})\n",
    "print(\"DataFrame 1:\")\n",
    "print(df1)\n",
    "print(\"DataFrame 2:\")\n",
    "print(df2)\n",
    "\n",
    "# Concatenate the DataFrames along the rows WITHOUT axis\n",
    "concat_rows = pd.concat([df1, df2])\n",
    "print(\"Default DataFrame WITHOUT axis:\")\n",
    "print(concat_rows)\n",
    "\n",
    "# Concatenate the DataFrames along the rows\n",
    "concat_rows = pd.concat([df1, df2], axis=0)\n",
    "print(\"Concatenated DataFrame (rows):\")\n",
    "print(concat_rows)\n",
    "\n",
    "# Concatenate the DataFrames along the columns\n",
    "concat_columns = pd.concat([df1, df2], axis=1)\n",
    "print(\"Concatenated DataFrame (columns):\")\n",
    "print(concat_columns)"
   ]
  },
  {
   "cell_type": "markdown",
   "metadata": {},
   "source": [
    "### Assignment 6: Time Series Analysis\n",
    "\n",
    "1. Create a Pandas DataFrame with a datetime index and one column filled with random integers. Resample the DataFrame to compute the monthly mean of the values."
   ]
  },
  {
   "cell_type": "code",
   "execution_count": 36,
   "metadata": {},
   "outputs": [
    {
     "name": "stdout",
     "output_type": "stream",
     "text": [
      "Original DataFrame:\n",
      "            data\n",
      "date            \n",
      "2022-01-01    13\n",
      "2022-01-02     5\n",
      "2022-01-03     0\n",
      "2022-01-04     8\n",
      "2022-01-05    79\n",
      "...          ...\n",
      "2022-12-27     3\n",
      "2022-12-28    48\n",
      "2022-12-29    76\n",
      "2022-12-30    37\n",
      "2022-12-31    48\n",
      "\n",
      "[365 rows x 1 columns]\n",
      "Monthly mean DataFrame:\n",
      "                 data\n",
      "date                 \n",
      "2022-01-31  46.032258\n",
      "2022-02-28  50.428571\n",
      "2022-03-31  45.580645\n",
      "2022-04-30  50.066667\n",
      "2022-05-31  49.580645\n",
      "2022-06-30  58.066667\n",
      "2022-07-31  54.225806\n",
      "2022-08-31  53.774194\n",
      "2022-09-30  60.233333\n",
      "2022-10-31  45.096774\n",
      "2022-11-30  51.100000\n",
      "2022-12-31  43.290323\n"
     ]
    },
    {
     "name": "stderr",
     "output_type": "stream",
     "text": [
      "/tmp/ipykernel_711/994453891.py:10: FutureWarning: 'M' is deprecated and will be removed in a future version, please use 'ME' instead.\n",
      "  monthly_mean = df.resample('M').mean()\n"
     ]
    }
   ],
   "source": [
    "# Create a Pandas DataFrame with a datetime index and one column filled with random integers\n",
    "date_rng = pd.date_range(start='2022-01-01', end='2022-12-31', freq='D')\n",
    "df = pd.DataFrame(date_rng, columns=['date'])\n",
    "df['data'] = np.random.randint(0, 100, size=(len(date_rng)))\n",
    "df.set_index('date', inplace=True)\n",
    "print(\"Original DataFrame:\")\n",
    "print(df)\n",
    "\n",
    "# Resample the DataFrame to compute the monthly mean of the values\n",
    "monthly_mean = df.resample('M').mean()\n",
    "print(\"Monthly mean DataFrame:\")\n",
    "print(monthly_mean)"
   ]
  },
  {
   "cell_type": "markdown",
   "metadata": {},
   "source": [
    "2. Create a Pandas DataFrame with a datetime index ranging from '2021-01-01' to '2021-12-31' and one column filled with random integers. Compute the rolling mean with a window of 7 days."
   ]
  },
  {
   "cell_type": "code",
   "execution_count": 37,
   "metadata": {},
   "outputs": [
    {
     "name": "stdout",
     "output_type": "stream",
     "text": [
      "Original DataFrame:\n",
      "            data\n",
      "date            \n",
      "2021-01-01    82\n",
      "2021-01-02    51\n",
      "2021-01-03    49\n",
      "2021-01-04    71\n",
      "2021-01-05    90\n",
      "...          ...\n",
      "2021-12-27    60\n",
      "2021-12-28    63\n",
      "2021-12-29    59\n",
      "2021-12-30     1\n",
      "2021-12-31    18\n",
      "\n",
      "[365 rows x 1 columns]\n",
      "Rolling mean DataFrame:\n",
      "                 data\n",
      "date                 \n",
      "2021-01-01        NaN\n",
      "2021-01-02        NaN\n",
      "2021-01-03        NaN\n",
      "2021-01-04        NaN\n",
      "2021-01-05        NaN\n",
      "...               ...\n",
      "2021-12-27  39.714286\n",
      "2021-12-28  44.571429\n",
      "2021-12-29  41.857143\n",
      "2021-12-30  40.428571\n",
      "2021-12-31  32.571429\n",
      "\n",
      "[365 rows x 1 columns]\n"
     ]
    }
   ],
   "source": [
    "# Create a Pandas DataFrame with a datetime index ranging from '2021-01-01' to '2021-12-31'\n",
    "date_rng = pd.date_range(start='2021-01-01', end='2021-12-31', freq='D')\n",
    "df = pd.DataFrame(date_rng, columns=['date'])\n",
    "df['data'] = np.random.randint(0, 100, size=(len(date_rng)))\n",
    "df.set_index('date', inplace=True)\n",
    "print(\"Original DataFrame:\")\n",
    "print(df)\n",
    "\n",
    "# Compute the rolling mean with a window of 7 days\n",
    "rolling_mean = df.rolling(window=7).mean()\n",
    "print(\"Rolling mean DataFrame:\")\n",
    "print(rolling_mean)"
   ]
  },
  {
   "cell_type": "markdown",
   "metadata": {},
   "source": [
    "### Assignment 7: MultiIndex DataFrame\n",
    "\n",
    "1. Create a Pandas DataFrame with a MultiIndex (hierarchical index). Perform some basic indexing and slicing operations on the MultiIndex DataFrame."
   ]
  },
  {
   "cell_type": "code",
   "execution_count": 38,
   "metadata": {},
   "outputs": [
    {
     "name": "stdout",
     "output_type": "stream",
     "text": [
      "MultiIndex DataFrame:\n",
      "                      Value1  Value2  Value3\n",
      "Category SubCategory                        \n",
      "A        one              54      29      65\n",
      "         two              86      89      74\n",
      "B        one               9      83      12\n",
      "         two              93      52      82\n",
      "Indexing at Category 'A':\n",
      "             Value1  Value2  Value3\n",
      "SubCategory                        \n",
      "one              54      29      65\n",
      "two              86      89      74\n",
      "Slicing at Category 'B' and SubCategory 'two':\n",
      "Value1    93\n",
      "Value2    52\n",
      "Value3    82\n",
      "Name: (B, two), dtype: int64\n"
     ]
    }
   ],
   "source": [
    "# Create a Pandas DataFrame with a MultiIndex (hierarchical index)\n",
    "arrays = [['A', 'A', 'B', 'B'], ['one', 'two', 'one', 'two']]\n",
    "index = pd.MultiIndex.from_arrays(arrays, names=('Category', 'SubCategory'))\n",
    "df = pd.DataFrame(np.random.randint(1, 100, size=(4, 3)), index=index, columns=['Value1', 'Value2', 'Value3'])\n",
    "print(\"MultiIndex DataFrame:\")\n",
    "print(df)\n",
    "\n",
    "# Basic indexing and slicing operations\n",
    "print(\"Indexing at Category 'A':\")\n",
    "print(df.loc['A'])\n",
    "\n",
    "print(\"Slicing at Category 'B' and SubCategory 'two':\")\n",
    "print(df.loc[('B', 'two')])"
   ]
  },
  {
   "cell_type": "markdown",
   "metadata": {},
   "source": [
    "2. Create a Pandas DataFrame with MultiIndex consisting of 'Category' and 'SubCategory'. Fill the DataFrame with random data and compute the sum of values for each 'Category' and 'SubCategory'."
   ]
  },
  {
   "cell_type": "code",
   "execution_count": 56,
   "metadata": {},
   "outputs": [
    {
     "name": "stdout",
     "output_type": "stream",
     "text": [
      "MultiIndex DataFrame:\n",
      "                      Value1  Value2  Value3\n",
      "Category SubCategory                        \n",
      "A        one              26      78      73\n",
      "         one              33      66      10\n",
      "         two              70      80      48\n",
      "         two              75      24      36\n",
      "         two              76      56      29\n",
      "B        one              10      21      81\n",
      "         one              65      83      89\n",
      "         two              50      30      20\n",
      "C        one              58      33      32\n",
      "         two              20      15      40\n",
      "Sum of values:\n",
      "                      Value1  Value2  Value3\n",
      "Category SubCategory                        \n",
      "A        one              59     144      83\n",
      "         two             221     160     113\n",
      "B        one              75     104     170\n",
      "         two              50      30      20\n",
      "C        one              58      33      32\n",
      "         two              20      15      40\n"
     ]
    }
   ],
   "source": [
    "# Create a Pandas DataFrame with MultiIndex consisting of 'Category' and 'SubCategory'\n",
    "size_=10\n",
    "np.random.seed(0)\n",
    "cat_arr = np.random.choice(['A', 'B', 'C'], size=size_)\n",
    "sub_cat_arr = np.random.choice(['one', 'two'], size=size_)\n",
    "\n",
    "arrays = [cat_arr, sub_cat_arr]\n",
    "index = pd.MultiIndex.from_arrays(arrays, names=('Category', 'SubCategory'))\n",
    "df = pd.DataFrame(np.random.randint(1, 100, size=(size_, 3)), index=index, columns=['Value1', 'Value2', 'Value3'])\n",
    "print(\"MultiIndex DataFrame:\")\n",
    "df.sort_index(inplace=True)\n",
    "print(df)\n",
    "\n",
    "# Compute the sum of values for each 'Category' and 'SubCategory'\n",
    "sum_values = df.groupby(['Category', 'SubCategory']).sum()\n",
    "print(\"Sum of values:\")\n",
    "print(sum_values)"
   ]
  },
  {
   "cell_type": "markdown",
   "metadata": {},
   "source": [
    "### Assignment 8: Pivot Tables\n",
    "\n",
    "1. Create a Pandas DataFrame with columns 'Date', 'Category', and 'Value'. Create a pivot table to compute the sum of 'Value' for each 'Category' by 'Date'."
   ]
  },
  {
   "cell_type": "code",
   "execution_count": 58,
   "metadata": {},
   "outputs": [
    {
     "name": "stdout",
     "output_type": "stream",
     "text": [
      "Original DataFrame:\n",
      "         Date Category  Value\n",
      "0  2022-01-03        A      4\n",
      "1  2022-01-01        C     95\n",
      "2  2022-01-08        C     99\n",
      "3  2022-01-06        A     14\n",
      "4  2022-01-10        C     41\n",
      "5  2022-01-01        A     73\n",
      "6  2022-01-03        A     20\n",
      "7  2022-01-08        C     96\n",
      "8  2022-01-03        A     73\n",
      "9  2022-01-10        C     27\n",
      "10 2022-01-03        C     67\n",
      "11 2022-01-04        C     53\n",
      "12 2022-01-04        A     68\n",
      "13 2022-01-03        A     62\n",
      "14 2022-01-04        A     15\n",
      "15 2022-01-05        B     97\n",
      "16 2022-01-02        C      5\n",
      "17 2022-01-03        A     68\n",
      "18 2022-01-10        B     12\n",
      "19 2022-01-02        C     87\n",
      "Pivot Table:\n",
      "Category        A     B      C\n",
      "Date                          \n",
      "2022-01-01   73.0   NaN   95.0\n",
      "2022-01-02    NaN   NaN   92.0\n",
      "2022-01-03  227.0   NaN   67.0\n",
      "2022-01-04   83.0   NaN   53.0\n",
      "2022-01-05    NaN  97.0    NaN\n",
      "2022-01-06   14.0   NaN    NaN\n",
      "2022-01-08    NaN   NaN  195.0\n",
      "2022-01-10    NaN  12.0   68.0\n",
      "         Date Category  Value\n",
      "0  2022-01-03        A      4\n",
      "1  2022-01-01        C     95\n",
      "2  2022-01-08        C     99\n",
      "3  2022-01-06        A     14\n",
      "4  2022-01-10        C     41\n",
      "5  2022-01-01        A     73\n",
      "6  2022-01-03        A     20\n",
      "7  2022-01-08        C     96\n",
      "8  2022-01-03        A     73\n",
      "9  2022-01-10        C     27\n",
      "10 2022-01-03        C     67\n",
      "11 2022-01-04        C     53\n",
      "12 2022-01-04        A     68\n",
      "13 2022-01-03        A     62\n",
      "14 2022-01-04        A     15\n",
      "15 2022-01-05        B     97\n",
      "16 2022-01-02        C      5\n",
      "17 2022-01-03        A     68\n",
      "18 2022-01-10        B     12\n",
      "19 2022-01-02        C     87\n"
     ]
    }
   ],
   "source": [
    "# Create a Pandas DataFrame with columns 'Date', 'Category', and 'Value'\n",
    "date_rng = pd.date_range(start='2022-01-01', end='2022-01-10', freq='D')\n",
    "df = pd.DataFrame({'Date': np.random.choice(date_rng, size=20), 'Category': np.random.choice(['A', 'B', 'C'], size=20), 'Value': np.random.randint(1, 100, size=20)})\n",
    "print(\"Original DataFrame:\")\n",
    "print(df)\n",
    "\n",
    "# Create a pivot table to compute the sum of 'Value' for each 'Category' by 'Date'\n",
    "pivot_table = df.pivot_table(values='Value', index='Date', columns='Category', aggfunc='sum')\n",
    "print(\"Pivot Table:\")\n",
    "print(pivot_table)\n",
    "print(df)"
   ]
  },
  {
   "cell_type": "markdown",
   "metadata": {},
   "source": [
    "2. Create a Pandas DataFrame with columns 'Year', 'Quarter', and 'Revenue'. Create a pivot table to compute the mean 'Revenue' for each 'Quarter' by 'Year'."
   ]
  },
  {
   "cell_type": "code",
   "execution_count": 59,
   "metadata": {},
   "outputs": [
    {
     "name": "stdout",
     "output_type": "stream",
     "text": [
      "Original DataFrame:\n",
      "    Year Quarter  Revenue\n",
      "0   2021      Q2      327\n",
      "1   2021      Q3      470\n",
      "2   2021      Q2      288\n",
      "3   2020      Q2      526\n",
      "4   2020      Q4      840\n",
      "5   2020      Q2      697\n",
      "6   2021      Q1      153\n",
      "7   2021      Q1      592\n",
      "8   2022      Q1       42\n",
      "9   2021      Q4      275\n",
      "10  2020      Q4      553\n",
      "11  2020      Q2      439\n",
      "Pivot Table:\n",
      "Quarter     Q1     Q2     Q3     Q4\n",
      "Year                               \n",
      "2020       NaN  554.0    NaN  696.5\n",
      "2021     372.5  307.5  470.0  275.0\n",
      "2022      42.0    NaN    NaN    NaN\n"
     ]
    }
   ],
   "source": [
    "# Create a Pandas DataFrame with columns 'Year', 'Quarter', and 'Revenue'\n",
    "df = pd.DataFrame({'Year': np.random.choice([2020, 2021, 2022], size=12), 'Quarter': np.random.choice(['Q1', 'Q2', 'Q3', 'Q4'], size=12), 'Revenue': np.random.randint(1, 1000, size=12)})\n",
    "print(\"Original DataFrame:\")\n",
    "print(df)\n",
    "\n",
    "# Create a pivot table to compute the mean 'Revenue' for each 'Quarter' by 'Year'\n",
    "pivot_table = df.pivot_table(values='Revenue', index='Year', columns='Quarter', aggfunc='mean')\n",
    "print(\"Pivot Table:\")\n",
    "print(pivot_table)"
   ]
  },
  {
   "cell_type": "markdown",
   "metadata": {},
   "source": [
    "### Assignment 9: Applying Functions\n",
    "\n",
    "1. Create a Pandas DataFrame with 3 columns and 5 rows filled with random integers. Apply a function that doubles the values of the DataFrame."
   ]
  },
  {
   "cell_type": "code",
   "execution_count": 84,
   "metadata": {},
   "outputs": [
    {
     "name": "stdout",
     "output_type": "stream",
     "text": [
      "Original DataFrame:\n",
      "    A   B   C\n",
      "0  45  48  65\n",
      "1  68  68  10\n",
      "2  84  22  37\n",
      "3  88  71  89\n",
      "4  89  13  59\n",
      "\n",
      " df_apply\n",
      "A    44\n",
      "B    58\n",
      "C    79\n",
      "dtype: int64 \n",
      "\n",
      "Doubled DataFrame:\n",
      "     A    B    C\n",
      "0   90   96  130\n",
      "1  136  136   20\n",
      "2  168   44   74\n",
      "3  176  142  178\n",
      "4  178   26  118 \n",
      "\n",
      "Doubled DataFrame:\n",
      "     A    B    C\n",
      "0   90   96  130\n",
      "1  136  136   20\n",
      "2  168   44   74\n",
      "3  176  142  178\n",
      "4  178   26  118\n"
     ]
    }
   ],
   "source": [
    "# Create a Pandas DataFrame with 3 columns and 5 rows filled with random integers\n",
    "np.random.seed(0)\n",
    "df = pd.DataFrame(np.random.randint(1, 100, size=(5, 3)), columns=['A', 'B', 'C'])\n",
    "print(\"Original DataFrame:\")\n",
    "print(df)\n",
    "\n",
    "#apply works on a row / column basis of a DataFrame.\n",
    "df_apply = df.apply(lambda x: x.max() - x.min())\n",
    "print('\\n',\"df_apply\")\n",
    "print(df_apply, '\\n')\n",
    "\n",
    "# it also works element-wise on a DataFrame\n",
    "df_doubled = df.apply(lambda x: x * 2)\n",
    "print(\"Doubled DataFrame:\")\n",
    "print(df_doubled, '\\n')\n",
    "\n",
    "# map a function that doubles the values of the DataFrame\n",
    "df_doubled = df.map(lambda x: x * 2)\n",
    "print(\"Doubled DataFrame:\")\n",
    "print(df_doubled)"
   ]
  },
  {
   "cell_type": "markdown",
   "metadata": {},
   "source": [
    "2. Create a Pandas DataFrame with 3 columns and 6 rows filled with random integers. Apply a lambda function to create a new column that is the sum of the existing columns."
   ]
  },
  {
   "cell_type": "code",
   "execution_count": 3,
   "metadata": {},
   "outputs": [
    {
     "name": "stdout",
     "output_type": "stream",
     "text": [
      "Original DataFrame:\n",
      "    A   B   C\n",
      "0  90   1   7\n",
      "1  79  91  63\n",
      "2  33   3  84\n",
      "3  59  26  88\n",
      "4  22  26  78\n",
      "5   7  85   5\n",
      "DataFrame with Sum column:\n",
      "    A   B   C  Sum\n",
      "0  90   1   7   98\n",
      "1  79  91  63  233\n",
      "2  33   3  84  120\n",
      "3  59  26  88  173\n",
      "4  22  26  78  126\n",
      "5   7  85   5   97\n"
     ]
    }
   ],
   "source": [
    "# Create a Pandas DataFrame with 3 columns and 6 rows filled with random integers\n",
    "df = pd.DataFrame(np.random.randint(1, 100, size=(6, 3)), columns=['A', 'B', 'C'])\n",
    "print(\"Original DataFrame:\")\n",
    "print(df)\n",
    "\n",
    "# Apply a lambda function to create a new column that is the sum of the existing columns\n",
    "df['Sum'] = df.apply(lambda row: row.sum(), axis=1)\n",
    "print(\"DataFrame with Sum column:\")\n",
    "print(df)"
   ]
  },
  {
   "cell_type": "markdown",
   "metadata": {},
   "source": [
    "### Assignment 10: Working with Text Data\n",
    "\n",
    "1. Create a Pandas Series with 5 random text strings. Convert all the strings to uppercase."
   ]
  },
  {
   "cell_type": "code",
   "execution_count": 10,
   "metadata": {},
   "outputs": [
    {
     "name": "stdout",
     "output_type": "stream",
     "text": [
      "Original Series:\n",
      "0         apple\n",
      "1        banana\n",
      "2        cherry\n",
      "3          date\n",
      "4    elderberry\n",
      "dtype: object\n",
      "Uppercase Series:\n",
      "0         APPLE\n",
      "1        BANANA\n",
      "2        CHERRY\n",
      "3          DATE\n",
      "4    ELDERBERRY\n",
      "dtype: object\n",
      "text_data\n",
      " 0                                                    apple\n",
      "1                                                   banana\n",
      "2                                                   cherry\n",
      "3                                                     date\n",
      "4                                               elderberry\n",
      "Upper    0         APPLE\n",
      "1        BANANA\n",
      "2        CHERR...\n",
      "dtype: object\n"
     ]
    }
   ],
   "source": [
    "# Create a Pandas Series with 5 random text strings\n",
    "text_data = pd.Series(['apple', 'banana', 'cherry', 'date', 'elderberry'])\n",
    "print(\"Original Series:\")\n",
    "print(text_data)\n",
    "\n",
    "# Convert all the strings to uppercase\n",
    "uppercase_data = text_data.str.upper()\n",
    "print(\"Uppercase Series:\")\n",
    "print(uppercase_data)\n",
    "\n",
    "\n",
    "text_data['Upper'] = uppercase_data\n",
    "print('text_data\\n', text_data)"
   ]
  },
  {
   "cell_type": "markdown",
   "metadata": {},
   "source": [
    "2. Create a Pandas Series with 5 random text strings. Extract the first three characters of each string."
   ]
  },
  {
   "cell_type": "code",
   "execution_count": 5,
   "metadata": {},
   "outputs": [
    {
     "name": "stdout",
     "output_type": "stream",
     "text": [
      "Original Series:\n",
      "0         apple\n",
      "1        banana\n",
      "2        cherry\n",
      "3          date\n",
      "4    elderberry\n",
      "dtype: object\n",
      "First three characters:\n",
      "0    app\n",
      "1    ban\n",
      "2    che\n",
      "3    dat\n",
      "4    eld\n",
      "dtype: object\n"
     ]
    }
   ],
   "source": [
    "# Create a Pandas Series with 5 random text strings\n",
    "text_data = pd.Series(['apple', 'banana', 'cherry', 'date', 'elderberry'])\n",
    "print(\"Original Series:\")\n",
    "print(text_data)\n",
    "\n",
    "# Extract the first three characters of each string\n",
    "first_three_chars = text_data.str[:3]\n",
    "print(\"First three characters:\")\n",
    "print(first_three_chars)"
   ]
  },
  {
   "cell_type": "code",
   "execution_count": null,
   "id": "c8717c4c",
   "metadata": {},
   "outputs": [],
   "source": []
  }
 ],
 "metadata": {
  "kernelspec": {
   "display_name": "Python 3",
   "language": "python",
   "name": "python3"
  },
  "language_info": {
   "codemirror_mode": {
    "name": "ipython",
    "version": 3
   },
   "file_extension": ".py",
   "mimetype": "text/x-python",
   "name": "python",
   "nbconvert_exporter": "python",
   "pygments_lexer": "ipython3",
   "version": "3.12.4"
  }
 },
 "nbformat": 4,
 "nbformat_minor": 5
}
